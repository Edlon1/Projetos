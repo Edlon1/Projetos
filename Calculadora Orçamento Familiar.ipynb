{
 "cells": [
  {
   "cell_type": "code",
   "execution_count": 2,
   "id": "3446700f-0f68-4f43-8303-89ab009e43fc",
   "metadata": {},
   "outputs": [
    {
     "name": "stdout",
     "output_type": "stream",
     "text": [
      "Resumo do Orçamento Familiar\n",
      "\n",
      "Receitas:\n",
      "  Descrição Valor\n",
      "0   Salário  5000\n",
      "Total de Receitas: R$5000.00\n",
      "\n",
      "Despesas:\n",
      "      Descrição Valor\n",
      "0       Aluguel  1500\n",
      "1  Supermercado   600\n",
      "2    Transporte   300\n",
      "3         Lazer   200\n",
      "Total de Despesas: R$2600.00\n",
      "\n",
      "Saldo Final: R$2400.00\n"
     ]
    }
   ],
   "source": [
    "import pandas as pd\n",
    "\n",
    "class CalculadoraOrcamentoFamiliar:\n",
    "    def __init__(self):\n",
    "        self.receitas = pd.DataFrame(columns=['Descrição', 'Valor'])\n",
    "        self.despesas = pd.DataFrame(columns=['Descrição', 'Valor'])\n",
    "    \n",
    "    def adicionar_receita(self, descricao, valor):\n",
    "        nova_receita = pd.DataFrame([[descricao, valor]], columns=['Descrição', 'Valor'])\n",
    "        self.receitas = pd.concat([self.receitas, nova_receita], ignore_index=True)\n",
    "    \n",
    "    def adicionar_despesa(self, descricao, valor):\n",
    "        nova_despesa = pd.DataFrame([[descricao, valor]], columns=['Descrição', 'Valor'])\n",
    "        self.despesas = pd.concat([self.despesas, nova_despesa], ignore_index=True)\n",
    "    \n",
    "    def calcular_saldo(self):\n",
    "        total_receitas = self.receitas['Valor'].sum()\n",
    "        total_despesas = self.despesas['Valor'].sum()\n",
    "        saldo = total_receitas - total_despesas\n",
    "        return saldo\n",
    "    \n",
    "    def exibir_resumo(self):\n",
    "        print(\"Resumo do Orçamento Familiar\")\n",
    "        print(\"\\nReceitas:\")\n",
    "        print(self.receitas)\n",
    "        print(f\"Total de Receitas: R${self.receitas['Valor'].sum():.2f}\")\n",
    "        \n",
    "        print(\"\\nDespesas:\")\n",
    "        print(self.despesas)\n",
    "        print(f\"Total de Despesas: R${self.despesas['Valor'].sum():.2f}\")\n",
    "        \n",
    "        saldo = self.calcular_saldo()\n",
    "        print(f\"\\nSaldo Final: R${saldo:.2f}\")\n",
    "\n",
    "# Exemplo de uso\n",
    "orcamento = CalculadoraOrcamentoFamiliar()\n",
    "orcamento.adicionar_receita('Salário', 5000)\n",
    "orcamento.adicionar_despesa('Aluguel', 1500)\n",
    "orcamento.adicionar_despesa('Supermercado', 600)\n",
    "orcamento.adicionar_despesa('Transporte', 300)\n",
    "orcamento.adicionar_despesa('Lazer', 200)\n",
    "\n",
    "orcamento.exibir_resumo()\n"
   ]
  }
 ],
 "metadata": {
  "kernelspec": {
   "display_name": "Python 3 (ipykernel)",
   "language": "python",
   "name": "python3"
  },
  "language_info": {
   "codemirror_mode": {
    "name": "ipython",
    "version": 3
   },
   "file_extension": ".py",
   "mimetype": "text/x-python",
   "name": "python",
   "nbconvert_exporter": "python",
   "pygments_lexer": "ipython3",
   "version": "3.11.7"
  }
 },
 "nbformat": 4,
 "nbformat_minor": 5
}
